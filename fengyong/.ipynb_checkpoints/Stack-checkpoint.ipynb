{
 "cells": [
  {
   "cell_type": "code",
   "execution_count": 1,
   "metadata": {},
   "outputs": [
    {
     "ename": "ModuleNotFoundError",
     "evalue": "No module named '__main__.RegData'; '__main__' is not a package",
     "output_type": "error",
     "traceback": [
      "\u001b[0;31m---------------------------------------------------------------------------\u001b[0m",
      "\u001b[0;31mModuleNotFoundError\u001b[0m                       Traceback (most recent call last)",
      "\u001b[0;32m<ipython-input-1-aec741bee5d7>\u001b[0m in \u001b[0;36m<module>\u001b[0;34m\u001b[0m\n\u001b[0;32m----> 1\u001b[0;31m \u001b[0;32mfrom\u001b[0m \u001b[0;34m.\u001b[0m\u001b[0mRegData\u001b[0m \u001b[0;32mimport\u001b[0m \u001b[0mRegData\u001b[0m\u001b[0;34m\u001b[0m\u001b[0;34m\u001b[0m\u001b[0m\n\u001b[0m",
      "\u001b[0;31mModuleNotFoundError\u001b[0m: No module named '__main__.RegData'; '__main__' is not a package"
     ]
    }
   ],
   "source": [
    "from .Registers import Registers"
   ]
  },
  {
   "cell_type": "code",
   "execution_count": 4,
   "metadata": {},
   "outputs": [],
   "source": [
    "class Stack:\n",
    "    __pointer = 1000000      #栈顶指针\n",
    "    __nsize = 0             #栈的层数\n",
    "    __lsize = 0            #栈的开启长度\n",
    "    __fsize = 0            #使用长度\n",
    "    __save = []            #存储\n",
    "    \n",
    "    def __init__(self):\n",
    "        raise SyntaxError(\"Register can not instance, please use class method\")\n",
    "    \n",
    "    @classmethod    \n",
    "              \n",
    "    def apply(cls, size):      #申请堆栈空间\n",
    "        if(size>=0):\n",
    "            raise SyntaxError(\"Please use a minus\")\n",
    "        if(-size % 4 != 0):\n",
    "            raise SyntaxError(\"Please use an integral multiple of -4\")\n",
    "        cls.__pointer = cls.__pointer + size\n",
    "        cls.__nsize = (1000000 - cls.__pointer)/4\n",
    "        cls.__lsize = (1000000 - cls.__pointer)\n",
    "        \n",
    "    def push(cls, inregname, point):     #执行push操作\n",
    "        if(point % 4 != 0):\n",
    "            raise SyntaxError(\"Please use an integral multiple of 4\")\n",
    "        if(point > (cls.__lsize-cls.__fsize)):\n",
    "            raise SyntaxError(\"Index out of range, please ask for more stack space\")\n",
    "        cls.__save = cls.__save.append(Register.reg_get(inregname))\n",
    "        cls.__fsize = cls.__fsize + 4\n",
    "        \n",
    "    def pop(cls, outregname, point):        #执行pop操作\n",
    "        if(point % 4 != 0):\n",
    "            raise SyntaxError(\"Please use an integral multiple of 4\")\n",
    "        if(point > (cls.__lsize-cls.__fsize)):\n",
    "            raise SyntaxError(\"Index out of range\") \n",
    "        if(point != cls.__fsize):\n",
    "            raise SyntaxError(\"You can only pop subject on stack top\")\n",
    "        transporter = cls.__save[-1]\n",
    "        return transporter\n",
    "        \n",
    "    def Sreturn(cls, point):\n",
    "        if(point % 4 != 0):\n",
    "            raise SyntaxError(\"Please use an integral multiple of 4\")\n",
    "        if(point > cls.__fsize):\n",
    "            raise SyntaxError(\"Index out of range, stack doesn't have enough space to return\") \n",
    "        h = cls.__save.pop()\n",
    "        cls.__fsize = cls.__fsize - point\n",
    "        cls.__lsize = cls.__lsize - point\n",
    "        cls.__nsize = cls.__nsize - point/4\n",
    "        cls.__pointer = cls.__pointer + point\n",
    "\n",
    "    \n",
    "    def clean(cls):           #重置堆栈\n",
    "        cls.__pointer = 1000000\n",
    "        cls.__nsize = 0             \n",
    "        cls.__lsize = 0            \n",
    "        cls.__fsize = 0            \n",
    "        cls.__save = []            \n",
    "            "
   ]
  },
  {
   "cell_type": "code",
   "execution_count": null,
   "metadata": {},
   "outputs": [],
   "source": []
  }
 ],
 "metadata": {
  "kernelspec": {
   "display_name": "Python 3",
   "language": "python",
   "name": "python3"
  },
  "language_info": {
   "codemirror_mode": {
    "name": "ipython",
    "version": 3
   },
   "file_extension": ".py",
   "mimetype": "text/x-python",
   "name": "python",
   "nbconvert_exporter": "python",
   "pygments_lexer": "ipython3",
   "version": "3.7.4"
  }
 },
 "nbformat": 4,
 "nbformat_minor": 2
}
